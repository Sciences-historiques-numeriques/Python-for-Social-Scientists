{
 "cells": [
  {
   "cell_type": "markdown",
   "id": "f5bfc9d9-f8d8-43e2-ae3b-20501cb3bf1f",
   "metadata": {},
   "source": [
    "# Introduction\n",
    "\n",
    "In this notebook we find the exercices about the basic structures in Python\n",
    "\n"
   ]
  },
  {
   "cell_type": "markdown",
   "id": "d061c6f7-2a4a-4cbd-9958-f57f5a3443cf",
   "metadata": {},
   "source": [
    "## Control structures"
   ]
  },
  {
   "cell_type": "code",
   "execution_count": 1,
   "id": "2ef8e85b-8aee-425d-8839-145c4d7457e8",
   "metadata": {
    "execution": {
     "iopub.execute_input": "2025-02-22T09:25:01.061679Z",
     "iopub.status.busy": "2025-02-22T09:25:01.058933Z",
     "iopub.status.idle": "2025-02-22T09:25:01.076192Z",
     "shell.execute_reply": "2025-02-22T09:25:01.073012Z",
     "shell.execute_reply.started": "2025-02-22T09:25:01.061612Z"
    }
   },
   "outputs": [
    {
     "name": "stdout",
     "output_type": "stream",
     "text": [
      "\n",
      "Example 1\n",
      "\n",
      "value is 5 threshold is  4\n",
      "5 is bigger than  4\n",
      "\n",
      "Example 2\n",
      "\n"
     ]
    }
   ],
   "source": [
    "print(\"\\nExample 1\\n\")\n",
    "\n",
    "value = 5\n",
    "threshold= 4\n",
    "print(\"value is\", value, \"threshold is \",threshold)\n",
    "if value > threshold :\n",
    "    print(value, \"is bigger than \", threshold)\n",
    "\n",
    "print(\"\\nExample 2\\n\")"
   ]
  },
  {
   "cell_type": "code",
   "execution_count": null,
   "id": "a8e884c4-0bcc-4177-95d1-2ebf0f84524e",
   "metadata": {},
   "outputs": [],
   "source": []
  }
 ],
 "metadata": {
  "kernelspec": {
   "display_name": "Python3",
   "language": "python",
   "name": "python3"
  },
  "language_info": {
   "codemirror_mode": {
    "name": "ipython",
    "version": 3
   },
   "file_extension": ".py",
   "mimetype": "text/x-python",
   "name": "python",
   "nbconvert_exporter": "python",
   "pygments_lexer": "ipython3",
   "version": "3.12.5"
  }
 },
 "nbformat": 4,
 "nbformat_minor": 5
}
